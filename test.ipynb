{
 "cells": [
  {
   "cell_type": "markdown",
   "metadata": {},
   "source": [
    "<head>\n",
    "        <meta charset=\"utf-8\" />\n",
    "        <link rel=\"stylesheet\" href=\"style.css\" />\n",
    "        <title>Premiers tests du CSS</title>\n",
    "</head>\n",
    "\n",
    "<p>Bonjour et bienvenue sur mon site !</p>\n",
    "<p>Pour le moment, mon site est un peu <em>vide</em>. Patientez encore un peu !</p>"
   ]
  },
  {
   "cell_type": "markdown",
   "metadata": {},
   "source": []
  }
 ],
 "metadata": {
  "language_info": {
   "name": "python"
  },
  "orig_nbformat": 4
 },
 "nbformat": 4,
 "nbformat_minor": 2
}
